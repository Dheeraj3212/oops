{
 "cells": [
  {
   "cell_type": "code",
   "execution_count": 10,
   "id": "43fd60f9-3d8b-4f7e-87f6-71cef86dcd0f",
   "metadata": {},
   "outputs": [],
   "source": [
    "class bankaccount:\n",
    "    def openaccount(self, name, email_id):\n",
    "        print(\"open an account by taking name and email id\")\n",
    "        return name + email_id\n",
    "    def deposite(self,amount):\n",
    "        print(\"i am trying to deposite an amount in my account\")\n",
    "    def withdrawl(self,amt_with):\n",
    "        print(\"withdraw the amount\")\n",
    "    def update_derails(self,name_update,emailid_update):\n",
    "        print(\"this function will update my name and mail if for account\")"
   ]
  },
  {
   "cell_type": "code",
   "execution_count": 4,
   "id": "34578598-0861-43fc-bfa6-b15d852c3f8f",
   "metadata": {},
   "outputs": [
    {
     "name": "stdout",
     "output_type": "stream",
     "text": [
      "open an account by taking name and email id\n",
      "Result: dhruvjohn@example.com\n"
     ]
    }
   ],
   "source": [
    "account = bankaccount()\n",
    "result = account.openaccount(\"dhruv\", \"john@example.com\")\n",
    "print(\"Result:\", result)"
   ]
  },
  {
   "cell_type": "code",
   "execution_count": 6,
   "id": "12e1227d-3bf2-4bdf-8be9-f7408ef52b9d",
   "metadata": {},
   "outputs": [],
   "source": [
    "class bankaccount:\n",
    "    def openaccount(self, name, email_id):\n",
    "        print(\"open an account by taking name and email id\")\n",
    "        return name + email_id"
   ]
  },
  {
   "cell_type": "code",
   "execution_count": 12,
   "id": "883f05bc-eaab-4b10-9e76-8ede4c6cb656",
   "metadata": {},
   "outputs": [
    {
     "name": "stdout",
     "output_type": "stream",
     "text": [
      "open an account by taking name and email id\n"
     ]
    },
    {
     "data": {
      "text/plain": [
       "'dhruvdhruv@gmail.com'"
      ]
     },
     "execution_count": 12,
     "metadata": {},
     "output_type": "execute_result"
    }
   ],
   "source": [
    "dhruv = bankaccount()\n",
    "dhruv.openaccount(\"dhruv\",\"dhruv@gmail.com\")"
   ]
  },
  {
   "cell_type": "code",
   "execution_count": 13,
   "id": "31fa9747-46d2-4303-8063-0ff6db943d1e",
   "metadata": {},
   "outputs": [],
   "source": [
    "class list_ops:\n",
    "    def exractfromindex(self,l,index):\n",
    "        return l[index]\n",
    "    def extractrangedata(self,l,start,end):\n",
    "        return l[start:end]\n",
    "    def extracteven(self,l):\n",
    "        l1=[]\n",
    "        for i in l:\n",
    "            if i%2==0:\n",
    "                l1.append(i)\n",
    "        return l1"
   ]
  },
  {
   "cell_type": "code",
   "execution_count": 15,
   "id": "bdc6a6f3-6404-40f4-a90a-1ec919ad13c9",
   "metadata": {},
   "outputs": [
    {
     "data": {
      "text/plain": [
       "5"
      ]
     },
     "execution_count": 15,
     "metadata": {},
     "output_type": "execute_result"
    }
   ],
   "source": [
    "first_obj = list_ops()\n",
    "first_obj.exractfromindex([1,2,3,4,5,6],4)"
   ]
  },
  {
   "cell_type": "code",
   "execution_count": 16,
   "id": "c00c1641-1367-4468-ac74-13d97b81563f",
   "metadata": {},
   "outputs": [
    {
     "data": {
      "text/plain": [
       "[2, 3, 4, 5]"
      ]
     },
     "execution_count": 16,
     "metadata": {},
     "output_type": "execute_result"
    }
   ],
   "source": [
    "first_obj.extractrangedata([2,3,4,5,6,7,8,9],0,4)"
   ]
  },
  {
   "cell_type": "code",
   "execution_count": 17,
   "id": "a2fb52e9-aa94-4c32-ab4a-7dedf39284c5",
   "metadata": {},
   "outputs": [
    {
     "data": {
      "text/plain": [
       "[4, 6, 8, 4]"
      ]
     },
     "execution_count": 17,
     "metadata": {},
     "output_type": "execute_result"
    }
   ],
   "source": [
    "first_obj.extracteven([4,5,6,7,8,4,5])"
   ]
  },
  {
   "cell_type": "code",
   "execution_count": 20,
   "id": "9f26c09d-4e42-44fc-b29d-73466882c6a4",
   "metadata": {},
   "outputs": [],
   "source": [
    "class list_ops:\n",
    "    def __init__(dhruv,l):\n",
    "        dhruv.l1=l"
   ]
  },
  {
   "cell_type": "code",
   "execution_count": 22,
   "id": "cd164cd6-44c6-4c29-ab87-a7ccb55309e2",
   "metadata": {},
   "outputs": [
    {
     "data": {
      "text/plain": [
       "[2, 3, 4, 4, 2, 5, 6, 7]"
      ]
     },
     "execution_count": 22,
     "metadata": {},
     "output_type": "execute_result"
    }
   ],
   "source": [
    "second_obj=list_ops([2,3,4,4,2,5,6,7])\n",
    "second_obj.l1"
   ]
  },
  {
   "cell_type": "code",
   "execution_count": 23,
   "id": "22e96753-8d5b-422f-a2bb-34f912d785b1",
   "metadata": {},
   "outputs": [],
   "source": [
    "class Dog:\n",
    "    def __init__(self, name, age):\n",
    "        self.name = name\n",
    "        self.age = age\n",
    "\n",
    "    def bark(self):\n",
    "        return \"Woof!\""
   ]
  },
  {
   "cell_type": "code",
   "execution_count": 24,
   "id": "82a85758-42c9-4c00-b601-6bfb3441ffd3",
   "metadata": {},
   "outputs": [],
   "source": [
    "dog1 = Dog(\"Buddy\", 3)\n",
    "dog2 = Dog(\"Max\", 5)"
   ]
  },
  {
   "cell_type": "code",
   "execution_count": 25,
   "id": "94cc3425-e0ba-4168-abb8-8d971330fd20",
   "metadata": {},
   "outputs": [
    {
     "name": "stdout",
     "output_type": "stream",
     "text": [
      "Buddy\n",
      "Woof!\n"
     ]
    }
   ],
   "source": [
    "print(dog1.name) \n",
    "print(dog2.bark())  "
   ]
  },
  {
   "cell_type": "code",
   "execution_count": 26,
   "id": "3544d658-763f-4d93-a543-ceeace159334",
   "metadata": {},
   "outputs": [
    {
     "name": "stdout",
     "output_type": "stream",
     "text": [
      "Woof!\n",
      "Meow!\n"
     ]
    }
   ],
   "source": [
    "class Animal:\n",
    "    def __init__(self, species):\n",
    "        self.species = species\n",
    "\n",
    "    def make_sound(self):\n",
    "        pass  \n",
    "\n",
    "class Dog(Animal):\n",
    "    def make_sound(self):\n",
    "        return \"Woof!\"\n",
    "\n",
    "class Cat(Animal):\n",
    "    def make_sound(self):\n",
    "        return \"Meow!\"\n",
    "\n",
    "dog = Dog(\"Canine\")\n",
    "cat = Cat(\"Feline\")\n",
    "\n",
    "print(dog.make_sound())\n",
    "print(cat.make_sound()) "
   ]
  },
  {
   "cell_type": "code",
   "execution_count": 4,
   "id": "67f9a111-380c-4d5c-a560-f8fce8336b8d",
   "metadata": {},
   "outputs": [],
   "source": [
    "class ListOps:\n",
    "    def __init__(self, l):\n",
    "        self.l = l\n",
    "\n",
    "    def extract_from_index(self, index):\n",
    "        return self.l[index]"
   ]
  },
  {
   "cell_type": "code",
   "execution_count": 5,
   "id": "aa8774a8-0cbf-41a8-a097-ff8eeccf6a67",
   "metadata": {},
   "outputs": [
    {
     "name": "stdout",
     "output_type": "stream",
     "text": [
      "3\n"
     ]
    }
   ],
   "source": [
    "lst_ops = ListOps([1, 2, 3, 4, 5])\n",
    "print(lst_ops.extract_from_index(2)) "
   ]
  },
  {
   "cell_type": "code",
   "execution_count": 6,
   "id": "48eecdc6-0482-4e09-8a90-f0baac2b0213",
   "metadata": {},
   "outputs": [],
   "source": [
    "class book:\n",
    "    def __init__(self,name,title,pageno):\n",
    "        self.name_of_book = name\n",
    "        self.title_of_book = title\n",
    "        self.page_no = pageno\n",
    "    def extract_details(self):\n",
    "        print(self.name_of_book,self.title_of_book)\n",
    "    def print_page_no(self):\n",
    "        print(self.page_no)"
   ]
  },
  {
   "cell_type": "code",
   "execution_count": 8,
   "id": "b2b05d36-5078-4182-900a-aabac40ca4f1",
   "metadata": {},
   "outputs": [],
   "source": [
    "sudh = book('dsa','practical dsa',546)\n",
    "ram = book('oops','assignment',34)\n"
   ]
  },
  {
   "cell_type": "code",
   "execution_count": 9,
   "id": "d1963a7a-7be3-4c65-b3bd-ec254d6d145d",
   "metadata": {},
   "outputs": [
    {
     "name": "stdout",
     "output_type": "stream",
     "text": [
      "dsa practical dsa\n"
     ]
    }
   ],
   "source": [
    "sudh.extract_details()"
   ]
  },
  {
   "cell_type": "code",
   "execution_count": 10,
   "id": "b360995b-1a30-41e9-ad49-79ac9f612a54",
   "metadata": {},
   "outputs": [
    {
     "name": "stdout",
     "output_type": "stream",
     "text": [
      "oops assignment\n"
     ]
    }
   ],
   "source": [
    "ram.extract_details()"
   ]
  },
  {
   "cell_type": "code",
   "execution_count": 11,
   "id": "282f6803-8747-454f-9240-e99ced4f723c",
   "metadata": {},
   "outputs": [
    {
     "name": "stdout",
     "output_type": "stream",
     "text": [
      "34\n"
     ]
    }
   ],
   "source": [
    "ram.print_page_no()"
   ]
  },
  {
   "cell_type": "code",
   "execution_count": 14,
   "id": "4fa2a0cf-5870-4373-86c5-0b522c5233f0",
   "metadata": {},
   "outputs": [],
   "source": [
    "class syllabus:\n",
    "    def __init__(self,sub1,sub2,sub3,marks):\n",
    "        self.name_of_syllabus = sub1\n",
    "        self.name_of_syllabus2 = sub2\n",
    "        self.name_of_syllabus3 = sub3\n",
    "        self.marks = marks\n",
    "    def extract_details(self):\n",
    "        print(self.name_of_syllabus, self.name_of_syllabus2, self.name_of_syllabus3)\n",
    "    def print_marks(self):\n",
    "        print(self.marks)"
   ]
  },
  {
   "cell_type": "code",
   "execution_count": 16,
   "id": "262b7240-fe37-4b8a-8530-455924ea402b",
   "metadata": {},
   "outputs": [],
   "source": [
    "dhruv = syllabus('hindi','gs','uttarakhand gs',75)"
   ]
  },
  {
   "cell_type": "code",
   "execution_count": 17,
   "id": "842e3c76-9d3c-47d4-afa9-9e09ff9b67f5",
   "metadata": {},
   "outputs": [
    {
     "name": "stdout",
     "output_type": "stream",
     "text": [
      "hindi gs uttarakhand gs\n"
     ]
    }
   ],
   "source": [
    "dhruv.extract_details()"
   ]
  },
  {
   "cell_type": "code",
   "execution_count": 18,
   "id": "5c9e65cd-d08b-4eba-8e21-e7a5305b3681",
   "metadata": {},
   "outputs": [
    {
     "name": "stdout",
     "output_type": "stream",
     "text": [
      "75\n"
     ]
    }
   ],
   "source": [
    "dhruv.print_marks()"
   ]
  },
  {
   "cell_type": "code",
   "execution_count": 19,
   "id": "57aade6a-3e4b-4aa2-bdc6-78a410ef7b9c",
   "metadata": {},
   "outputs": [],
   "source": [
    "class syllabus:\n",
    "    def __init__(self,sub1,sub2,sub3,marks):\n",
    "        self.name_of_syllabus = sub1\n",
    "        self.name_of_syllabus2 = sub2\n",
    "        self.name_of_syllabus3 = sub3\n",
    "        self.marks = marks\n",
    "    def extract_details(self):\n",
    "        print(self.name_of_syllabus, self.name_of_syllabus2, self.name_of_syllabus3, self.marks)"
   ]
  },
  {
   "cell_type": "code",
   "execution_count": 20,
   "id": "be9d5b78-2e38-4221-9df0-597f9b60ee20",
   "metadata": {},
   "outputs": [],
   "source": [
    "dhruv = syllabus('hindi','gs','uttarakhand gs',75)"
   ]
  },
  {
   "cell_type": "code",
   "execution_count": 21,
   "id": "32d3e8df-89b7-47f6-83e4-aa19cb4eed98",
   "metadata": {},
   "outputs": [
    {
     "name": "stdout",
     "output_type": "stream",
     "text": [
      "hindi gs uttarakhand gs 75\n"
     ]
    }
   ],
   "source": [
    "dhruv.extract_details()"
   ]
  },
  {
   "cell_type": "code",
   "execution_count": 35,
   "id": "30f14e9b-098a-487a-90e5-62c3979349aa",
   "metadata": {},
   "outputs": [],
   "source": [
    "class syllabus:\n",
    "    def __init__(self,sub1,sub2,sub3,marks):\n",
    "        self.name_of_syllabus = sub1\n",
    "        self.name_of_syllabus2 = sub2\n",
    "        self.name_of_syllabus3 = sub3\n",
    "        self.marks = marks\n",
    "    def extract_details(self):\n",
    "        print(self.name_of_syllabus, self.name_of_syllabus2, self.name_of_syllabus3, self.marks)\n",
    "    def print_name_of_syllabus3(self):\n",
    "        print(self.name_of_syllabus3)"
   ]
  },
  {
   "cell_type": "code",
   "execution_count": 36,
   "id": "e83577e4-bd19-4b26-bb00-2662deccfa64",
   "metadata": {},
   "outputs": [],
   "source": [
    "dhruv = syllabus('hindi','gs','uttarakhand gs',75)"
   ]
  },
  {
   "cell_type": "code",
   "execution_count": 38,
   "id": "9a56f75f-f408-40d9-8533-bceea9aaa5a8",
   "metadata": {},
   "outputs": [
    {
     "name": "stdout",
     "output_type": "stream",
     "text": [
      "uttarakhand gs\n"
     ]
    }
   ],
   "source": [
    "dhruv.print_name_of_syllabus3()"
   ]
  },
  {
   "cell_type": "code",
   "execution_count": 40,
   "id": "e4472682-c487-4730-8b25-62dcbeaf8b78",
   "metadata": {},
   "outputs": [],
   "source": [
    "class book:\n",
    "    def __init__(self):\n",
    "        self.name_of_book = \"dsa\"\n",
    "        self.title_of_book = \"dsa advance\"\n",
    "        self.page_no = 234\n",
    "    def extract_details(self):\n",
    "        print(self.name_of_book,self.title_of_book)\n",
    "    def print_page_no(self):\n",
    "        print(self.page_no)"
   ]
  },
  {
   "cell_type": "code",
   "execution_count": 41,
   "id": "52926cbf-5c0d-4731-a2d9-39f7174bed73",
   "metadata": {},
   "outputs": [],
   "source": [
    "student1 = book()"
   ]
  },
  {
   "cell_type": "code",
   "execution_count": 42,
   "id": "2dd4b4ec-095c-4b73-bd28-8755209ccac5",
   "metadata": {},
   "outputs": [
    {
     "data": {
      "text/plain": [
       "'dsa'"
      ]
     },
     "execution_count": 42,
     "metadata": {},
     "output_type": "execute_result"
    }
   ],
   "source": [
    "student1.name_of_book"
   ]
  },
  {
   "cell_type": "code",
   "execution_count": 44,
   "id": "3b2c08ab-16b9-4f56-80b8-ed05c9f6d8f2",
   "metadata": {},
   "outputs": [
    {
     "name": "stdout",
     "output_type": "stream",
     "text": [
      "dsa dsa advance\n"
     ]
    }
   ],
   "source": [
    "student1.extract_details()"
   ]
  },
  {
   "cell_type": "code",
   "execution_count": 45,
   "id": "3a2ba787-0078-40b9-b2d6-e9270d2040d4",
   "metadata": {},
   "outputs": [
    {
     "name": "stdout",
     "output_type": "stream",
     "text": [
      "234\n"
     ]
    }
   ],
   "source": [
    "student1.print_page_no()"
   ]
  },
  {
   "cell_type": "code",
   "execution_count": 1,
   "id": "efc1e3f7-e8d6-4484-8d4f-9a299f3a6ef8",
   "metadata": {},
   "outputs": [],
   "source": [
    "class gmail_ops:\n",
    "    def __init__(self,userid,password):\n",
    "        self.userid = userid\n",
    "        self.password = password\n",
    "        self.url = \"https://mail.google.com/mail/u/1/#inbox\"\n",
    "    def login(self):\n",
    "        print(\"take userid\"+self.userid+\"take password\"+self.password+\"hit url\"+self.url)\n",
    "        print(\"login\")\n",
    "    def read_mail(self):\n",
    "        print(\"read mail for\"+self.userid+\" \"+self.password)"
   ]
  },
  {
   "cell_type": "code",
   "execution_count": 2,
   "id": "a549f019-6805-49d9-8d53-d9782121f718",
   "metadata": {},
   "outputs": [
    {
     "name": "stdout",
     "output_type": "stream",
     "text": [
      "take useriddhruvtake passwordbageshwar@123hit urlhttps://mail.google.com/mail/u/1/#inbox\n",
      "login\n"
     ]
    }
   ],
   "source": [
    "user1 = gmail_ops(\"dhruv\",\"bageshwar@123\")\n",
    "user1.login()"
   ]
  },
  {
   "cell_type": "code",
   "execution_count": 3,
   "id": "a9940bc6-ed04-4b4e-8c33-b6bbe6d7da94",
   "metadata": {},
   "outputs": [],
   "source": [
    "class gmail_ops:\n",
    "    def __init__(self,userid,password):\n",
    "        self.userid = userid\n",
    "        self.password = password\n",
    "        self.url = \"https://mail.google.com/mail/u/1/#inbox\"\n",
    "    def login(self):\n",
    "        print(\"take userid\"  +   self.userid  +  \"take password\"  +self.password   +  \"hit url\"  +   self.url)\n",
    "        print(\"login\")\n",
    "    def read_mail(self):\n",
    "        print(\"read mail for\"+self.userid+\" \"+self.password)"
   ]
  },
  {
   "cell_type": "code",
   "execution_count": 4,
   "id": "94c79831-6f21-4058-82fb-5357a3982b51",
   "metadata": {},
   "outputs": [
    {
     "name": "stdout",
     "output_type": "stream",
     "text": [
      "take useriddhruvtake passwordbageshwar@123hit urlhttps://mail.google.com/mail/u/1/#inbox\n",
      "login\n"
     ]
    }
   ],
   "source": [
    "user1 = gmail_ops(\"dhruv\",\"bageshwar@123\")\n",
    "user1.login()"
   ]
  },
  {
   "cell_type": "code",
   "execution_count": 5,
   "id": "d09267dd-c723-49c7-b16f-c9812d2ca24e",
   "metadata": {},
   "outputs": [
    {
     "name": "stdout",
     "output_type": "stream",
     "text": [
      "read mail fordhruv bageshwar@123\n"
     ]
    }
   ],
   "source": [
    "user1.read_mail()"
   ]
  },
  {
   "cell_type": "code",
   "execution_count": 9,
   "id": "83d826d7-f7e3-4a06-a6ca-7877a520aa77",
   "metadata": {},
   "outputs": [],
   "source": [
    "\n",
    "class calculator:\n",
    "    def add(self,*args):\n",
    "        return sum(args)\n",
    "    def subtraction(self,*args):\n",
    "        return reduce(lambda a,b : a-b,args)\n",
    "    def mul(self,*args):\n",
    "        return reduce(lambda a,b : a*b,args)\n",
    "    def div(self,*args):\n",
    "        return reduce(lambda a,b : a/b,args)\n",
    "    "
   ]
  },
  {
   "cell_type": "code",
   "execution_count": 10,
   "id": "6694acde-352a-4753-a36c-a92f8964bbee",
   "metadata": {},
   "outputs": [],
   "source": [
    "dhruv = calculator()\n"
   ]
  },
  {
   "cell_type": "code",
   "execution_count": 11,
   "id": "84848554-cc8a-454e-bdbd-dcbf146d6eb5",
   "metadata": {},
   "outputs": [
    {
     "data": {
      "text/plain": [
       "208"
      ]
     },
     "execution_count": 11,
     "metadata": {},
     "output_type": "execute_result"
    }
   ],
   "source": [
    "dhruv.add(23,43,43,54,45)"
   ]
  },
  {
   "cell_type": "code",
   "execution_count": 22,
   "id": "a7314bed-1e7e-48d2-8239-82c5ca85c6b5",
   "metadata": {},
   "outputs": [],
   "source": [
    "from functools import reduce\n",
    "class calculator:\n",
    "        def __init__(self,username):\n",
    "            self.username = username\n",
    "        def add(self,*args):\n",
    "            return self.username,sum(args)\n",
    "        def subtraction(self, *args):\n",
    "            return self.username,reduce(lambda a,b : a-b, args)\n",
    "        def mul(self, *args):\n",
    "            return self.username,reduce(lambda a,b : a*b, args)\n",
    "        def div(self, *args):\n",
    "            return self.username,reduce(lambda a,b : a/b, args)\n",
    "        "
   ]
  },
  {
   "cell_type": "code",
   "execution_count": 23,
   "id": "9f170462-3fbc-4624-8fe4-bd7889fe4e8d",
   "metadata": {},
   "outputs": [],
   "source": [
    "dhruv = calculator(\"sudh\")\n"
   ]
  },
  {
   "cell_type": "code",
   "execution_count": 24,
   "id": "7470cd53-d111-451a-a8e7-55a1ec4676c0",
   "metadata": {},
   "outputs": [
    {
     "data": {
      "text/plain": [
       "('sudh', 51)"
      ]
     },
     "execution_count": 24,
     "metadata": {},
     "output_type": "execute_result"
    }
   ],
   "source": [
    "dhruv.add(3,4,5,6,6,4,7,8,8)"
   ]
  },
  {
   "cell_type": "code",
   "execution_count": 28,
   "id": "3e18844f-a329-4350-9947-2c8c726477e2",
   "metadata": {},
   "outputs": [],
   "source": [
    "from functools import reduce\n",
    "class calculator:\n",
    "        def __init__(self,username):\n",
    "            self.username = username\n",
    "        def add(self,*args):\n",
    "            return self.username,sum(args)\n",
    "        def subtraction(self, *args):\n",
    "            return self.username,reduce(lambda a,b : a-b, args)\n",
    "        def mul(self, *args):\n",
    "            return self.username,reduce(lambda a,b : a*b, args)\n",
    "        def div(self, *args):\n",
    "            return self.username,reduce(lambda a,b : a/b, args)\n",
    "        "
   ]
  },
  {
   "cell_type": "code",
   "execution_count": 29,
   "id": "fcd47928-ebb3-4458-bf78-969d93262777",
   "metadata": {},
   "outputs": [],
   "source": [
    "\n",
    "dhruv = calculator(\"sudh\")\n"
   ]
  },
  {
   "cell_type": "code",
   "execution_count": 30,
   "id": "98b116aa-4caf-4990-8eea-85f95f2acc6b",
   "metadata": {},
   "outputs": [
    {
     "data": {
      "text/plain": [
       "('sudh', 56)"
      ]
     },
     "execution_count": 30,
     "metadata": {},
     "output_type": "execute_result"
    }
   ],
   "source": [
    "dhruv.mul(8,7)"
   ]
  },
  {
   "cell_type": "code",
   "execution_count": 47,
   "id": "6a82d171-2253-498f-b10c-7b9ddc87f836",
   "metadata": {},
   "outputs": [],
   "source": [
    "class a:\n",
    "    def test(self):\n",
    "        print(\"this test method is a part of of class a \")"
   ]
  },
  {
   "cell_type": "code",
   "execution_count": 48,
   "id": "14a5d218-606d-429e-84d7-73fe5243ea11",
   "metadata": {},
   "outputs": [],
   "source": [
    "obj_a = a()"
   ]
  },
  {
   "cell_type": "code",
   "execution_count": 49,
   "id": "f2509afa-a467-4ea0-83c9-05c9f8e040e7",
   "metadata": {},
   "outputs": [
    {
     "name": "stdout",
     "output_type": "stream",
     "text": [
      "this test method is a part of of class a \n"
     ]
    }
   ],
   "source": [
    "obj_a.test()"
   ]
  },
  {
   "cell_type": "code",
   "execution_count": 50,
   "id": "87bf0d3c-8173-466e-a2c3-6b7adcb501b5",
   "metadata": {},
   "outputs": [],
   "source": [
    "class a:\n",
    "    def test(self):\n",
    "        print(\"this is my first oops class\")\n",
    "    def test1(self):\n",
    "        print(\"this is my second oops class\")"
   ]
  },
  {
   "cell_type": "code",
   "execution_count": 51,
   "id": "55816db1-a42f-4012-94a4-f6e27db73554",
   "metadata": {},
   "outputs": [],
   "source": [
    "dhruv = a()"
   ]
  },
  {
   "cell_type": "code",
   "execution_count": 52,
   "id": "d0aec91b-61f4-4827-836d-d022d9808a9d",
   "metadata": {},
   "outputs": [
    {
     "name": "stdout",
     "output_type": "stream",
     "text": [
      "this is my first oops class\n"
     ]
    }
   ],
   "source": [
    "dhruv.test()"
   ]
  },
  {
   "cell_type": "code",
   "execution_count": 53,
   "id": "5fa04833-5354-4da7-831d-3caddbac001d",
   "metadata": {},
   "outputs": [
    {
     "name": "stdout",
     "output_type": "stream",
     "text": [
      "this is my second oops class\n"
     ]
    }
   ],
   "source": [
    "dhruv.test1()"
   ]
  },
  {
   "cell_type": "code",
   "execution_count": 55,
   "id": "f65465e3-1a9f-408e-b2a8-b0910b2b3738",
   "metadata": {},
   "outputs": [],
   "source": [
    "class b(a):\n",
    "    def test1b(self):\n",
    "        print(\"this is a part of class b\")\n",
    "              "
   ]
  },
  {
   "cell_type": "code",
   "execution_count": 56,
   "id": "34ed17e6-49f5-4697-baa1-6ab21cbc89da",
   "metadata": {},
   "outputs": [],
   "source": [
    "obj_b = b()"
   ]
  },
  {
   "cell_type": "code",
   "execution_count": 57,
   "id": "5cb5b25f-3634-4563-909c-5a789069041d",
   "metadata": {},
   "outputs": [
    {
     "name": "stdout",
     "output_type": "stream",
     "text": [
      "this is my first oops class\n"
     ]
    }
   ],
   "source": [
    "obj_b.test()"
   ]
  },
  {
   "cell_type": "code",
   "execution_count": 58,
   "id": "754a51c1-bfd1-459e-ba67-81eac570ad7f",
   "metadata": {},
   "outputs": [
    {
     "name": "stdout",
     "output_type": "stream",
     "text": [
      "this is my second oops class\n"
     ]
    }
   ],
   "source": [
    "obj_b.test1()"
   ]
  },
  {
   "cell_type": "code",
   "execution_count": 59,
   "id": "a311d799-1c95-4191-8328-db944c845dce",
   "metadata": {},
   "outputs": [
    {
     "name": "stdout",
     "output_type": "stream",
     "text": [
      "this is a part of class b\n"
     ]
    }
   ],
   "source": [
    "obj_b.test1b()"
   ]
  },
  {
   "cell_type": "code",
   "execution_count": 1,
   "id": "9e3ec7fa-6267-401a-94eb-80298a3c0a8d",
   "metadata": {},
   "outputs": [],
   "source": [
    "class lecture:\n",
    "    def topic(self):\n",
    "        print(\"todays class we are discussing about inheritance concept in oops\")\n",
    "    def timing(self):\n",
    "        print(\"timing for todays class is 9am ist\")\n",
    "    def end_time(self):\n",
    "        print(\"today i will try to end class bit early\")\n",
    "    "
   ]
  },
  {
   "cell_type": "code",
   "execution_count": 2,
   "id": "3403f5e0-fea1-42c7-a166-a9b5245ba9e3",
   "metadata": {},
   "outputs": [],
   "source": [
    "class student(lecture):\n",
    "    def student_details(self):\n",
    "        print(\"this class will give you a student details\")"
   ]
  },
  {
   "cell_type": "code",
   "execution_count": 6,
   "id": "abde7933-59b2-496e-8cbb-4b3c56780d32",
   "metadata": {},
   "outputs": [],
   "source": [
    "from functools import reduce\n",
    "class calculator:\n",
    "        def __init__(self,username):\n",
    "            self.username = username\n",
    "        def add(self,*args):\n",
    "            return self.username,sum(args)\n",
    "        def subtraction(self, *args):\n",
    "            return self.username,reduce(lambda a,b : a-b, args)\n",
    "        def mul(self, *args):\n",
    "            return self.username,reduce(lambda a,b : a*b, args)\n",
    "        def div(self, *args):\n",
    "            return self.username,reduce(lambda a,b : a/b, args)\n",
    "        "
   ]
  },
  {
   "cell_type": "code",
   "execution_count": 8,
   "id": "cde62e1f-2a9c-4c72-8904-44078f243f86",
   "metadata": {},
   "outputs": [],
   "source": [
    "dhruv = calculator(\"sudh\")"
   ]
  },
  {
   "cell_type": "code",
   "execution_count": 9,
   "id": "99ab5ddb-6568-49a8-929d-74dd74cc58ef",
   "metadata": {},
   "outputs": [
    {
     "data": {
      "text/plain": [
       "('sudh', 5.0)"
      ]
     },
     "execution_count": 9,
     "metadata": {},
     "output_type": "execute_result"
    }
   ],
   "source": [
    "dhruv.div(15,3)"
   ]
  },
  {
   "cell_type": "code",
   "execution_count": 18,
   "id": "81acc349-e5d5-456c-bcec-cee7b2d70a23",
   "metadata": {},
   "outputs": [],
   "source": [
    "class pwskills:\n",
    "    def __init__(self,mentor):\n",
    "        self.mentor = mentor\n",
    "    def mentor_name(self):\n",
    "        print(self.mentor)\n",
    "class datascience(pwskills):\n",
    "    def __init__(self,mentor,mentor_mail_id):\n",
    "        self.mentor = mentor\n",
    "        self.mentor_mail_id = mentor_mail_id\n",
    "    def show_info(self):\n",
    "        print(self.mentor,self.mentor_mail_id)"
   ]
  },
  {
   "cell_type": "code",
   "execution_count": 19,
   "id": "96051e7c-82eb-4760-b2c5-65a998df5584",
   "metadata": {},
   "outputs": [],
   "source": [
    "python_basic = datascience(\"sudh\",\"dhruv@gmail.com\")"
   ]
  },
  {
   "cell_type": "code",
   "execution_count": 20,
   "id": "a60b8b7a-8bdb-49f4-8e11-9ae2c317dd47",
   "metadata": {},
   "outputs": [
    {
     "name": "stdout",
     "output_type": "stream",
     "text": [
      "sudh dhruv@gmail.com\n"
     ]
    }
   ],
   "source": [
    "python_basic.show_info()"
   ]
  },
  {
   "cell_type": "code",
   "execution_count": 21,
   "id": "fd97166e-e564-4b2e-ac36-7224ec62e011",
   "metadata": {},
   "outputs": [
    {
     "name": "stdout",
     "output_type": "stream",
     "text": [
      "sudh\n"
     ]
    }
   ],
   "source": [
    "python_basic.mentor_name()"
   ]
  },
  {
   "cell_type": "code",
   "execution_count": 22,
   "id": "182d29a8-0eff-478e-802b-410352fb96f3",
   "metadata": {},
   "outputs": [],
   "source": [
    "class human:\n",
    "    def __init__(self):\n",
    "        pass\n",
    "    def eat(self):\n",
    "        pass"
   ]
  },
  {
   "cell_type": "code",
   "execution_count": 23,
   "id": "356033ec-0086-4bbb-b521-9eccd0fb6634",
   "metadata": {},
   "outputs": [],
   "source": [
    "class male(human):\n",
    "    def __init__(self,name):\n",
    "        self.name = name\n",
    "    def eat(self):\n",
    "        print(self.name)"
   ]
  },
  {
   "cell_type": "code",
   "execution_count": 24,
   "id": "a05ede24-3e1f-481b-8964-7e338859c0f8",
   "metadata": {},
   "outputs": [],
   "source": [
    "sudh = male(\"sudhanshu\")"
   ]
  },
  {
   "cell_type": "code",
   "execution_count": 25,
   "id": "d1e37cd8-0507-4abf-b3c4-439e6498c594",
   "metadata": {},
   "outputs": [
    {
     "name": "stdout",
     "output_type": "stream",
     "text": [
      "sudhanshu\n"
     ]
    }
   ],
   "source": [
    "sudh.eat()"
   ]
  },
  {
   "cell_type": "code",
   "execution_count": 26,
   "id": "6261c198-d9e6-4b94-abac-66333af20e4f",
   "metadata": {},
   "outputs": [],
   "source": [
    "class fileopener:\n",
    "    def __init__(self,filename):\n",
    "        self.filename = filename\n",
    "    def open_file(self):\n",
    "        print(\"this will opwn the file\",self.filename)\n",
    "    def __del__(self):\n",
    "        print(\"close my file\")"
   ]
  },
  {
   "cell_type": "code",
   "execution_count": 27,
   "id": "fd2c4f6b-de1d-4404-82ae-8e8698b7b67b",
   "metadata": {},
   "outputs": [],
   "source": [
    "f1 = fileopener(\"f1.txt\")"
   ]
  },
  {
   "cell_type": "code",
   "execution_count": 28,
   "id": "f9296dde-b34a-4df1-96dc-c8fda608fd53",
   "metadata": {},
   "outputs": [
    {
     "name": "stdout",
     "output_type": "stream",
     "text": [
      "this will opwn the file f1.txt\n"
     ]
    }
   ],
   "source": [
    "f1.open_file()"
   ]
  },
  {
   "cell_type": "code",
   "execution_count": 36,
   "id": "137b7093-b7e9-46a1-9030-470686cf02a5",
   "metadata": {},
   "outputs": [],
   "source": [
    "import time\n",
    "class timer:\n",
    "    def __init__(self):\n",
    "        self.start_time = time.time()\n",
    "    def task(self):\n",
    "        time_spent = time.time()-self.start_time\n",
    "        print(time_spent)\n",
    "    def __del__(self):\n",
    "        print(\"this is open file\")\n",
    "    def __str__(self):\n",
    "        return(\"this is my class timer\")"
   ]
  },
  {
   "cell_type": "code",
   "execution_count": 37,
   "id": "75431246-57ff-4f8d-8fdc-9de6dfe05694",
   "metadata": {},
   "outputs": [],
   "source": [
    "t1 = timer()"
   ]
  },
  {
   "cell_type": "code",
   "execution_count": 38,
   "id": "e0863bcd-2cb5-4629-830d-d74eac701ea4",
   "metadata": {},
   "outputs": [
    {
     "name": "stdout",
     "output_type": "stream",
     "text": [
      "2.5154335498809814\n"
     ]
    }
   ],
   "source": [
    "t1.task()"
   ]
  },
  {
   "cell_type": "code",
   "execution_count": 39,
   "id": "8edb4c25-92d6-48b6-8222-e750f40683fb",
   "metadata": {},
   "outputs": [
    {
     "name": "stdout",
     "output_type": "stream",
     "text": [
      "this is my class timer\n"
     ]
    }
   ],
   "source": [
    "print(t1)"
   ]
  },
  {
   "cell_type": "code",
   "execution_count": null,
   "id": "0fc25b23-d6d7-4c68-ab97-8456a27c4d35",
   "metadata": {},
   "outputs": [],
   "source": [
    "def test(function):\n",
    "    def inner_test():\n",
    "        print(\"this is the start of my inner test\")\n",
    "        function()\n",
    "        print(\"this is the end of my inner test\")\n",
    "    "
   ]
  }
 ],
 "metadata": {
  "kernelspec": {
   "display_name": "Python 3 (ipykernel)",
   "language": "python",
   "name": "python3"
  },
  "language_info": {
   "codemirror_mode": {
    "name": "ipython",
    "version": 3
   },
   "file_extension": ".py",
   "mimetype": "text/x-python",
   "name": "python",
   "nbconvert_exporter": "python",
   "pygments_lexer": "ipython3",
   "version": "3.10.8"
  }
 },
 "nbformat": 4,
 "nbformat_minor": 5
}
